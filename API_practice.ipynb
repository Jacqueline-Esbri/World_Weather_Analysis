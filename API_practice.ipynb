{
 "cells": [
  {
   "cell_type": "code",
   "execution_count": 1,
   "id": "blank-destruction",
   "metadata": {},
   "outputs": [],
   "source": [
    "#[1]\n",
    "\n",
    "# Let's practice zipping a small number of \n",
    "# latitudes and longitudes and then unpacking \n",
    "# the zipped tuple to see how the packing and unpacking work.\n",
    "\n",
    "# Create a practice set of random latitude and longitude combinations.\n",
    "x = [25.12903645, 25.92017388, 26.62509167, -59.98969384, 37.30571269]\n",
    "y = [-67.59741259, 11.09532135, 74.84233102, -76.89176677, -61.13376282]\n",
    "coordinates = zip(x, y)"
   ]
  },
  {
   "cell_type": "code",
   "execution_count": 2,
   "id": "inappropriate-mixture",
   "metadata": {},
   "outputs": [
    {
     "name": "stdout",
     "output_type": "stream",
     "text": [
      "25.12903645 -67.59741259\n",
      "25.92017388 11.09532135\n",
      "26.62509167 74.84233102\n",
      "-59.98969384 -76.89176677\n",
      "37.30571269 -61.13376282\n"
     ]
    }
   ],
   "source": [
    "# Use the tuple() function to display the latitude and longitude combinations.\n",
    "\n",
    "for coordinate in coordinates:\n",
    "    print(coordinate[0], coordinate[1])"
   ]
  },
  {
   "cell_type": "code",
   "execution_count": 3,
   "id": "induced-female",
   "metadata": {},
   "outputs": [],
   "source": [
    "# Next, let's unpack our lat_lngs zip object into a list. \n",
    "# This way, we only need to create a set of random \n",
    "# latitudes and longitudes once. In a new cell in the \n",
    "# WeatherPy.ipynb file, add the following code and run the cell.\n",
    "\n",
    "# Add the latitudes and longitudes to a list.\n",
    "# coordinates = list(lat_lngs)\n",
    "\n",
    "# check WeatherPy sheet\n"
   ]
  },
  {
   "cell_type": "code",
   "execution_count": null,
   "id": "toxic-caution",
   "metadata": {},
   "outputs": [],
   "source": []
  },
  {
   "cell_type": "code",
   "execution_count": 4,
   "id": "internal-efficiency",
   "metadata": {},
   "outputs": [],
   "source": [
    "#[2]\n",
    "\n",
    "# Use the citipy module to determine city based on latitude and longitude.\n",
    "from citipy import citipy"
   ]
  },
  {
   "cell_type": "code",
   "execution_count": 5,
   "id": "continent-block",
   "metadata": {},
   "outputs": [],
   "source": [
    "#[3]\n",
    "\n",
    "# use the five pairs of latitudes and longitudes\n",
    "# we used from our zip practice to get a city \n",
    "# and country code from the citipy module.\n",
    "\n",
    "# Use the tuple() function to display the latitude and longitude combinations.\n",
    "for coordinate in coordinates:\n",
    "    print(citipy.nearest_city(coordinate[0], coordinate[1]).city_name,\n",
    "          citipy.nearest_city(coordinate[0], coordinate[1]).country_code)"
   ]
  },
  {
   "cell_type": "code",
   "execution_count": null,
   "id": "broke-pittsburgh",
   "metadata": {},
   "outputs": [],
   "source": []
  },
  {
   "cell_type": "code",
   "execution_count": 6,
   "id": "secret-smile",
   "metadata": {},
   "outputs": [],
   "source": [
    "#[4]\n",
    "\n",
    "# Import the requests library.\n",
    "import requests\n",
    "\n",
    "# Import the API key.\n",
    "from config import weather_api_key"
   ]
  },
  {
   "cell_type": "code",
   "execution_count": 7,
   "id": "exotic-distinction",
   "metadata": {},
   "outputs": [
    {
     "name": "stdout",
     "output_type": "stream",
     "text": [
      "http://api.openweathermap.org/data/2.5/weather?units=Imperial&APPID=c65ada4e44aea17f126e673d0507af96\n"
     ]
    }
   ],
   "source": [
    "#[5]\n",
    "\n",
    "# Starting URL for Weather Map API Call.\n",
    "url = \"http://api.openweathermap.org/data/2.5/weather?units=Imperial&APPID=\" + weather_api_key\n",
    "print(url)\n"
   ]
  },
  {
   "cell_type": "code",
   "execution_count": 8,
   "id": "interior-thriller",
   "metadata": {},
   "outputs": [
    {
     "name": "stdout",
     "output_type": "stream",
     "text": [
      "http://api.openweathermap.org/data/2.5/weather?units=Imperial&APPID=c65ada4e44aea17f126e673d0507af96&q=Boston\n"
     ]
    }
   ],
   "source": [
    "# [6]\n",
    "\n",
    "# Create an endpoint URL for a city.\n",
    "city_url = url + \"&q=\" + \"Boston\"\n",
    "print(city_url)"
   ]
  },
  {
   "cell_type": "code",
   "execution_count": 9,
   "id": "mounted-meditation",
   "metadata": {},
   "outputs": [
    {
     "data": {
      "text/plain": [
       "<Response [200]>"
      ]
     },
     "execution_count": 9,
     "metadata": {},
     "output_type": "execute_result"
    }
   ],
   "source": [
    "#[7]\n",
    "\n",
    "# Make a 'Get' request for the city weather.\n",
    "city_weather = requests.get(city_url)\n",
    "city_weather"
   ]
  },
  {
   "cell_type": "code",
   "execution_count": 10,
   "id": "indoor-cover",
   "metadata": {},
   "outputs": [
    {
     "data": {
      "text/plain": [
       "200"
      ]
     },
     "execution_count": 10,
     "metadata": {},
     "output_type": "execute_result"
    }
   ],
   "source": [
    "#[8]\n",
    "\n",
    "city_weather.status_code"
   ]
  },
  {
   "cell_type": "code",
   "execution_count": 11,
   "id": "solved-antarctica",
   "metadata": {},
   "outputs": [
    {
     "data": {
      "text/plain": [
       "<Response [404]>"
      ]
     },
     "execution_count": 11,
     "metadata": {},
     "output_type": "execute_result"
    }
   ],
   "source": [
    "#[9]\n",
    "\n",
    "# Create an endpoint URL for a city.\n",
    "# to check for error bc \"Bston\" instead of Boston\n",
    "\n",
    "city_url = url + \"&q=\" + \"Bston\"\n",
    "city_weather = requests.get(city_url)\n",
    "city_weather"
   ]
  },
  {
   "cell_type": "code",
   "execution_count": 12,
   "id": "solved-underground",
   "metadata": {},
   "outputs": [
    {
     "data": {
      "text/plain": [
       "<Response [200]>"
      ]
     },
     "execution_count": 12,
     "metadata": {},
     "output_type": "execute_result"
    }
   ],
   "source": [
    "#[10]\n",
    "# Create an endpoint URL for a city.\n",
    "city_url = url + \"&q=\" + \"Boston\"\n",
    "city_weather = requests.get(city_url)\n",
    "city_weather\n"
   ]
  },
  {
   "cell_type": "code",
   "execution_count": 13,
   "id": "thick-dress",
   "metadata": {},
   "outputs": [
    {
     "data": {
      "text/plain": [
       "'{\"coord\":{\"lon\":-71.0598,\"lat\":42.3584},\"weather\":[{\"id\":801,\"main\":\"Clouds\",\"description\":\"few clouds\",\"icon\":\"02d\"}],\"base\":\"stations\",\"main\":{\"temp\":51.62,\"feels_like\":44.29,\"temp_min\":46,\"temp_max\":57.2,\"pressure\":1027,\"humidity\":57},\"visibility\":10000,\"wind\":{\"speed\":8.05,\"deg\":80},\"clouds\":{\"all\":20},\"dt\":1616453446,\"sys\":{\"type\":1,\"id\":3486,\"country\":\"US\",\"sunrise\":1616409817,\"sunset\":1616453901},\"timezone\":-14400,\"id\":4930956,\"name\":\"Boston\",\"cod\":200}'"
      ]
     },
     "execution_count": 13,
     "metadata": {},
     "output_type": "execute_result"
    }
   ],
   "source": [
    "#[11]\n",
    "\n",
    "# Get the text of the 'Get' request.\n",
    "city_weather.text"
   ]
  },
  {
   "cell_type": "code",
   "execution_count": 14,
   "id": "micro-concentrate",
   "metadata": {},
   "outputs": [
    {
     "data": {
      "text/plain": [
       "{'coord': {'lon': -71.0598, 'lat': 42.3584},\n",
       " 'weather': [{'id': 801,\n",
       "   'main': 'Clouds',\n",
       "   'description': 'few clouds',\n",
       "   'icon': '02d'}],\n",
       " 'base': 'stations',\n",
       " 'main': {'temp': 51.62,\n",
       "  'feels_like': 44.29,\n",
       "  'temp_min': 46,\n",
       "  'temp_max': 57.2,\n",
       "  'pressure': 1027,\n",
       "  'humidity': 57},\n",
       " 'visibility': 10000,\n",
       " 'wind': {'speed': 8.05, 'deg': 80},\n",
       " 'clouds': {'all': 20},\n",
       " 'dt': 1616453446,\n",
       " 'sys': {'type': 1,\n",
       "  'id': 3486,\n",
       "  'country': 'US',\n",
       "  'sunrise': 1616409817,\n",
       "  'sunset': 1616453901},\n",
       " 'timezone': -14400,\n",
       " 'id': 4930956,\n",
       " 'name': 'Boston',\n",
       " 'cod': 200}"
      ]
     },
     "execution_count": 14,
     "metadata": {},
     "output_type": "execute_result"
    }
   ],
   "source": [
    "#[12]\n",
    "\n",
    "# Get the JSON text of the 'Get' request.\n",
    "city_weather.json()"
   ]
  },
  {
   "cell_type": "code",
   "execution_count": 15,
   "id": "middle-birth",
   "metadata": {},
   "outputs": [
    {
     "name": "stdout",
     "output_type": "stream",
     "text": [
      "City Weather found.\n"
     ]
    }
   ],
   "source": [
    "# Create an endpoint URL for a city. w status_code\n",
    "city_url = url + \"&q=\" + \"Boston\"\n",
    "city_weather = requests.get(city_url)\n",
    "if city_weather.status_code == 200:\n",
    "    print(f\"City Weather found.\")\n",
    "else:\n",
    "    print(f\"City weather not found.\")"
   ]
  },
  {
   "cell_type": "code",
   "execution_count": 16,
   "id": "known-recommendation",
   "metadata": {},
   "outputs": [
    {
     "name": "stdout",
     "output_type": "stream",
     "text": [
      "City Weather found.\n"
     ]
    }
   ],
   "source": [
    "#[14]\n",
    "\n",
    "# Create an endpoint URL for a city. To check status_code\n",
    "city_url = url + \"&q=\" + \"Bston\"\n",
    "city_weather = requests.get(city_url)\n",
    "if city_weather.json():\n",
    "    print(f\"City Weather found.\")\n",
    "else:\n",
    "    print(f\"City weather not found.\")"
   ]
  },
  {
   "cell_type": "code",
   "execution_count": 17,
   "id": "owned-michigan",
   "metadata": {},
   "outputs": [
    {
     "name": "stdout",
     "output_type": "stream",
     "text": [
      "http://api.openweathermap.org/data/2.5/weather?units=Imperial&APPID=c65ada4e44aea17f126e673d0507af96&q=Bston\n"
     ]
    }
   ],
   "source": [
    "#[15]\n",
    "\n",
    "# However, if we type print(city_url) in a new cell and run the cell, \n",
    "# the output will be a URL. If we click the URL, the web browser \n",
    "# returns a 404 response and there is no data to retrieve.\n",
    "\n",
    "\n",
    "print(city_url)"
   ]
  },
  {
   "cell_type": "code",
   "execution_count": 18,
   "id": "possible-switch",
   "metadata": {},
   "outputs": [
    {
     "data": {
      "text/plain": [
       "{'coord': {'lon': -71.0598, 'lat': 42.3584},\n",
       " 'weather': [{'id': 800,\n",
       "   'main': 'Clear',\n",
       "   'description': 'clear sky',\n",
       "   'icon': '01n'}],\n",
       " 'base': 'stations',\n",
       " 'main': {'temp': 48.36,\n",
       "  'feels_like': 41.45,\n",
       "  'temp_min': 45,\n",
       "  'temp_max': 52,\n",
       "  'pressure': 1027,\n",
       "  'humidity': 61},\n",
       " 'visibility': 10000,\n",
       " 'wind': {'speed': 6.91, 'deg': 181, 'gust': 16.35},\n",
       " 'clouds': {'all': 1},\n",
       " 'dt': 1616456445,\n",
       " 'sys': {'type': 1,\n",
       "  'id': 3486,\n",
       "  'country': 'US',\n",
       "  'sunrise': 1616409817,\n",
       "  'sunset': 1616453901},\n",
       " 'timezone': -14400,\n",
       " 'id': 4930956,\n",
       " 'name': 'Boston',\n",
       " 'cod': 200}"
      ]
     },
     "execution_count": 18,
     "metadata": {},
     "output_type": "execute_result"
    }
   ],
   "source": [
    "#[16]\n",
    "\n",
    "# Create an endpoint URL for a city. 6.2.5\n",
    "city_url = url + \"&q=\" + \"Boston\"\n",
    "city_weather = requests.get(city_url)\n",
    "city_weather.json()"
   ]
  },
  {
   "cell_type": "code",
   "execution_count": 19,
   "id": "shaped-appendix",
   "metadata": {},
   "outputs": [],
   "source": [
    "#[17]\n",
    "\n",
    "# assign a variable to the city_weather.json() data \n",
    "# to the variable \"boston_data\" and run the cell.\n",
    "\n",
    "# Get the JSON data.\n",
    "boston_data = city_weather.json()"
   ]
  },
  {
   "cell_type": "code",
   "execution_count": 21,
   "id": "animal-review",
   "metadata": {},
   "outputs": [
    {
     "data": {
      "text/plain": [
       "'US'"
      ]
     },
     "execution_count": 21,
     "metadata": {},
     "output_type": "execute_result"
    }
   ],
   "source": [
    "#[17a]\n",
    "\n",
    "# Next, using the sys key to get the corresponding \n",
    "# value, we type boston_data['sys'] in a new cell \n",
    "# and run the cell. The output is another \n",
    "# dictionary as shown in the following image.\n",
    "\n",
    "# boston_data['sys']\n",
    "\n",
    "# If we add the country key in brackets after the sys key, \n",
    "# and run the cell again, ‘US’ will be returned in the output.\n",
    "\n",
    "\n",
    "boston_data[\"sys\"][\"country\"]"
   ]
  },
  {
   "cell_type": "code",
   "execution_count": 23,
   "id": "stylish-pearl",
   "metadata": {},
   "outputs": [
    {
     "data": {
      "text/plain": [
       "1616456445"
      ]
     },
     "execution_count": 23,
     "metadata": {},
     "output_type": "execute_result"
    }
   ],
   "source": [
    "#[17b]\n",
    "\n",
    "# If we want to retrieve the date in the weather data, \n",
    "# we would add the dt key to the boston_data variable like this: \n",
    "boston_data[\"dt\"]"
   ]
  },
  {
   "cell_type": "code",
   "execution_count": 24,
   "id": "colored-subject",
   "metadata": {},
   "outputs": [
    {
     "name": "stdout",
     "output_type": "stream",
     "text": [
      "42.3584 -71.0598 52 61 1 6.91\n"
     ]
    }
   ],
   "source": [
    "#[18]\n",
    "\n",
    "# Get the time of day, we can get the latitude, \n",
    "# longitude, maximum temperature, humidity, \n",
    "# percent cloudiness, and wind speed. \n",
    "\n",
    "# The output will be all of the weather parameters, \n",
    "# with the units for maximum temperature in degrees \n",
    "# Fahrenheit, the humidity and clouds as a percentage, \n",
    "# and the wind in miles per hour.\n",
    "\n",
    "\n",
    "\n",
    "lat = boston_data[\"coord\"][\"lat\"]\n",
    "lng = boston_data[\"coord\"][\"lon\"]\n",
    "max_temp = boston_data[\"main\"][\"temp_max\"]\n",
    "humidity = boston_data[\"main\"][\"humidity\"]\n",
    "clouds = boston_data[\"clouds\"][\"all\"]\n",
    "wind = boston_data[\"wind\"][\"speed\"]\n",
    "print(lat, lng, max_temp, humidity, clouds, wind)"
   ]
  },
  {
   "cell_type": "code",
   "execution_count": 25,
   "id": "working-desperate",
   "metadata": {},
   "outputs": [
    {
     "data": {
      "text/plain": [
       "datetime.datetime(2021, 3, 22, 23, 40, 45)"
      ]
     },
     "execution_count": 25,
     "metadata": {},
     "output_type": "execute_result"
    }
   ],
   "source": [
    "#[19]\n",
    "\n",
    "# Import the datetime module from the datetime library.\n",
    "from datetime import datetime\n",
    "# Get the date from the JSON file.\n",
    "date = boston_data[\"dt\"]\n",
    "# Convert the UTC date to a date format with year, month, day, hours, minutes, and seconds.\n",
    "datetime.utcfromtimestamp(date)"
   ]
  },
  {
   "cell_type": "code",
   "execution_count": 26,
   "id": "effective-hardwood",
   "metadata": {},
   "outputs": [
    {
     "data": {
      "text/plain": [
       "'2021-03-22 23:40:45'"
      ]
     },
     "execution_count": 26,
     "metadata": {},
     "output_type": "execute_result"
    }
   ],
   "source": [
    "#[19a]\n",
    "\n",
    "# We can convert this datetime format to 2019-10-21 17:24:35 \n",
    "# using the Python string format method strftime() and adding \n",
    "# how we want the string to look inside the parentheses. \n",
    "# In our case, we would use strftime('%Y-%m-%d %H:%M:%S')\n",
    "\n",
    "datetime.utcfromtimestamp(date).strftime('%Y-%m-%d %H:%M:%S')"
   ]
  },
  {
   "cell_type": "code",
   "execution_count": 1,
   "id": "after-highway",
   "metadata": {},
   "outputs": [
    {
     "data": {
      "text/plain": [
       "1616517465.579957"
      ]
     },
     "execution_count": 1,
     "metadata": {},
     "output_type": "execute_result"
    }
   ],
   "source": [
    "#[20]\n",
    "\n",
    "# Import the time module.\n",
    "import time\n",
    "# Get today's date in seconds.\n",
    "today = time.time()\n",
    "today\n",
    "\n",
    "# The ouput, format for time appears like the datetime stamp \n",
    "# for the JSON weather data. We can convert this using the \n",
    "# string format method, strftime() and pass the formatting \n",
    "# parameters for our date in parentheses. To get the format \n",
    "# for today, we can add %x inside the parentheses.\n",
    "\n"
   ]
  },
  {
   "cell_type": "code",
   "execution_count": 2,
   "id": "intermediate-compound",
   "metadata": {},
   "outputs": [
    {
     "data": {
      "text/plain": [
       "'03/23/21'"
      ]
     },
     "execution_count": 2,
     "metadata": {},
     "output_type": "execute_result"
    }
   ],
   "source": [
    "#[21]\n",
    "\n",
    "# add strftime(\"%x\")to the time module for our today \n",
    "# variable and run the cell. The output will be today's date.\n",
    "\n",
    "today = time.strftime(\"%x\")\n",
    "today"
   ]
  },
  {
   "cell_type": "code",
   "execution_count": null,
   "id": "active-pioneer",
   "metadata": {},
   "outputs": [],
   "source": []
  }
 ],
 "metadata": {
  "kernelspec": {
   "display_name": "PythonData",
   "language": "python",
   "name": "pythondata"
  },
  "language_info": {
   "codemirror_mode": {
    "name": "ipython",
    "version": 3
   },
   "file_extension": ".py",
   "mimetype": "text/x-python",
   "name": "python",
   "nbconvert_exporter": "python",
   "pygments_lexer": "ipython3",
   "version": "3.7.9"
  }
 },
 "nbformat": 4,
 "nbformat_minor": 5
}

{
 "cells": [
  {
   "cell_type": "code",
   "execution_count": 14,
   "id": "fuzzy-affiliate",
   "metadata": {},
   "outputs": [],
   "source": [
    "# Import the random module.\n",
    "import random"
   ]
  },
  {
   "cell_type": "code",
   "execution_count": 17,
   "id": "accredited-penguin",
   "metadata": {},
   "outputs": [
    {
     "data": {
      "text/plain": [
       "23"
      ]
     },
     "execution_count": 17,
     "metadata": {},
     "output_type": "execute_result"
    }
   ],
   "source": [
    "#[6.1.4]\n",
    "\n",
    "# Produces a random single integer that that falls \n",
    "# between a specified range/the upper and lower boundaries \n",
    "# here (23 is between _90 and 90)\n",
    "\n",
    "random.randint(-90,90)"
   ]
  },
  {
   "cell_type": "code",
   "execution_count": 18,
   "id": "hollow-pressing",
   "metadata": {},
   "outputs": [
    {
     "data": {
      "text/plain": [
       "0.024731373597677075"
      ]
     },
     "execution_count": 18,
     "metadata": {},
     "output_type": "execute_result"
    }
   ],
   "source": [
    "# we can get a single floating-point decimal number between 0 and 1.0.\n",
    "\n",
    "random.random()"
   ]
  },
  {
   "cell_type": "code",
   "execution_count": 21,
   "id": "fluid-bunny",
   "metadata": {},
   "outputs": [],
   "source": [
    "#[6.1.4]\n",
    "\n",
    "# Using these two functions, we can write an algorithm that will \n",
    "# generate latitudes between –90 and 89. Here is a small sample \n",
    "# of what it might take to generate ten random \n",
    "# floating-point decimal latitudes between –90 and 89.\n",
    "\n",
    "x = 1\n",
    "latitudes = []\n",
    "while x < 11:\n",
    "    random_lat = random.randint(-90, 89) + random.random()\n",
    "    latitudes.append(random_lat)\n",
    "    x += 1"
   ]
  },
  {
   "cell_type": "code",
   "execution_count": 23,
   "id": "distinct-visiting",
   "metadata": {},
   "outputs": [
    {
     "data": {
      "text/plain": [
       "[-22.25496837715723,\n",
       " -42.20269727003201,\n",
       " 35.7030514039035,\n",
       " 0.20492455323543246,\n",
       " -69.7508867142882,\n",
       " 42.17215278719912,\n",
       " -50.16360182417432,\n",
       " 79.14351534621474,\n",
       " -18.040204959754117,\n",
       " -49.97450058457965]"
      ]
     },
     "execution_count": 23,
     "metadata": {},
     "output_type": "execute_result"
    }
   ],
   "source": [
    "# here we check the above code\n",
    "\n",
    "latitudes"
   ]
  },
  {
   "cell_type": "code",
   "execution_count": 32,
   "id": "controlling-assault",
   "metadata": {},
   "outputs": [
    {
     "data": {
      "text/plain": [
       "59"
      ]
     },
     "execution_count": 32,
     "metadata": {},
     "output_type": "execute_result"
    }
   ],
   "source": [
    "# The output is a number between -90 and 90, \n",
    "# where the difference between each number in \n",
    "# the sequence is 3.(when we add the code below)\n",
    "\n",
    "random.randrange(-90, 90, step=1)"
   ]
  },
  {
   "cell_type": "code",
   "execution_count": 33,
   "id": "living-carbon",
   "metadata": {},
   "outputs": [
    {
     "data": {
      "text/plain": [
       "-45"
      ]
     },
     "execution_count": 33,
     "metadata": {},
     "output_type": "execute_result"
    }
   ],
   "source": [
    "# The output is a number between -90 and 90, \n",
    "# where the difference between each number in \n",
    "# the sequence is 3.\n",
    "\n",
    "random.randrange(-90, 90, step=3)"
   ]
  },
  {
   "cell_type": "code",
   "execution_count": 34,
   "id": "naked-bleeding",
   "metadata": {},
   "outputs": [
    {
     "data": {
      "text/plain": [
       "19.459400872544677"
      ]
     },
     "execution_count": 34,
     "metadata": {},
     "output_type": "execute_result"
    }
   ],
   "source": [
    "# The uniform() function will allow us to generate a \n",
    "# floating-point decimal number between two given \n",
    "# numbers inside the parentheses.\n",
    "\n",
    "random.uniform(-90, 90)"
   ]
  },
  {
   "cell_type": "code",
   "execution_count": 35,
   "id": "unexpected-usage",
   "metadata": {},
   "outputs": [],
   "source": [
    "# Import the NumPy module.\n",
    "import numpy as np"
   ]
  },
  {
   "cell_type": "code",
   "execution_count": 36,
   "id": "lyric-designer",
   "metadata": {},
   "outputs": [
    {
     "data": {
      "text/plain": [
       "30.712550508331645"
      ]
     },
     "execution_count": 36,
     "metadata": {},
     "output_type": "execute_result"
    }
   ],
   "source": [
    "# to generate a floating-point decimal number \n",
    "# between –90.000 and 90.000. Adding the zeros past \n",
    "# the decimal places is optional.\n",
    "\n",
    "# Another option is to write the parameters as\n",
    "# np.random.uniform(low=-90, high=90).\n",
    "\n",
    "\n",
    "\n",
    "np.random.uniform(-90.000, 90.000)"
   ]
  },
  {
   "cell_type": "code",
   "execution_count": 37,
   "id": "competent-convergence",
   "metadata": {},
   "outputs": [
    {
     "data": {
      "text/plain": [
       "array([ 66.21587448,  -0.31144874,  50.60749075,  19.99490324,\n",
       "       -86.78678985, -60.34204374, -18.02066567, -62.15891957,\n",
       "         4.92137789,  86.56957969, -66.39496591,  -4.00835949,\n",
       "        69.46713202,  57.70488128,  48.92742794,  52.82522439,\n",
       "       -61.20876655,  41.23438805, -44.74160021,  48.86335047,\n",
       "       -15.94629268, -87.0089145 , -40.76066734, -33.72793478,\n",
       "        -8.33835222,  55.77154589,  32.28830712, -52.5336475 ,\n",
       "       -50.09931167, -39.56207324, -13.80821855, -53.59969886,\n",
       "       -51.1179448 ,  72.2489912 ,  68.75432489, -39.51937071,\n",
       "        10.70972236,  77.76798957,  42.31253519, -24.59346767,\n",
       "        14.16595393, -48.24798766, -49.17887409,  -7.91061542,\n",
       "       -10.81364917,  70.11873836, -37.61030705,  32.66513777,\n",
       "        14.32867731,  79.27664574])"
      ]
     },
     "execution_count": 37,
     "metadata": {},
     "output_type": "execute_result"
    }
   ],
   "source": [
    "# To generate more than one floating-point decimal \n",
    "# number between –90 and 90, we can add the size \n",
    "# parameter when we use the NumPy module and set \n",
    "# that equal to any whole number.\n",
    "\n",
    "np.random.uniform(-90.000, 90.000, size=50)\n",
    "\n",
    "# The output is an array of 50 floating-point decimal \n",
    "# numbers between –90.000 and 90.000."
   ]
  },
  {
   "cell_type": "code",
   "execution_count": 38,
   "id": "reduced-danish",
   "metadata": {},
   "outputs": [],
   "source": [
    "# all we need to do is increase the parameter size to 1,500.\n",
    "# but first lets import the \"timeit\" module\n",
    "\n",
    "# Import timeit.\n",
    "import timeit"
   ]
  },
  {
   "cell_type": "code",
   "execution_count": 39,
   "id": "prescribed-calibration",
   "metadata": {},
   "outputs": [
    {
     "name": "stdout",
     "output_type": "stream",
     "text": [
      "11.6 µs ± 210 ns per loop (mean ± std. dev. of 7 runs, 100000 loops each)\n"
     ]
    }
   ],
   "source": [
    "# Next, add the %timeit magic command before the \n",
    "# np.random.uniform(-90.000, 90.000, size=1500) \n",
    "\n",
    "%timeit np.random.uniform(-90.000, 90.000, size=1500)\n",
    "\n",
    "# The output is the amount of time it took to \n",
    "# run this code, which is an average of 14.6 microseconds. \n",
    "# The amount of time it takes to run this code depends on \n",
    "# the processing speed and the RAM of your computer.\n",
    "\n"
   ]
  },
  {
   "cell_type": "code",
   "execution_count": 40,
   "id": "daily-faculty",
   "metadata": {},
   "outputs": [
    {
     "name": "stdout",
     "output_type": "stream",
     "text": [
      "1.56 ms ± 35 µs per loop (mean ± std. dev. of 7 runs, 1000 loops each)\n"
     ]
    }
   ],
   "source": [
    "# Now, let's run the while loop as a function. \n",
    "\n",
    "def latitudes(size):\n",
    "    latitudes = []\n",
    "    x = 0\n",
    "    while x < (size):\n",
    "        random_lat = random.randint(-90, 90) + random.random()\n",
    "        latitudes.append(random_lat)\n",
    "        x += 1\n",
    "    return latitudes\n",
    "\n",
    "# Call the function with 1500.\n",
    "%timeit latitudes(1500)"
   ]
  },
  {
   "cell_type": "code",
   "execution_count": null,
   "id": "introductory-antigua",
   "metadata": {},
   "outputs": [],
   "source": [
    "# Note: Using the np.random.uniform(-90.000, 90.000, size=1500) \n",
    "# is 100 times faster than using the While loop function, \n",
    "# and our code is one line, whereas the function uses eight lines!"
   ]
  }
 ],
 "metadata": {
  "kernelspec": {
   "display_name": "PythonData",
   "language": "python",
   "name": "pythondata"
  },
  "language_info": {
   "codemirror_mode": {
    "name": "ipython",
    "version": 3
   },
   "file_extension": ".py",
   "mimetype": "text/x-python",
   "name": "python",
   "nbconvert_exporter": "python",
   "pygments_lexer": "ipython3",
   "version": "3.7.9"
  }
 },
 "nbformat": 4,
 "nbformat_minor": 5
}
